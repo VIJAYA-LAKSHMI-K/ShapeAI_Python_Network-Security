{
  "nbformat": 4,
  "nbformat_minor": 0,
  "metadata": {
    "colab": {
      "name": "Vijayalakshmi_md5.ipynb",
      "provenance": []
    },
    "kernelspec": {
      "name": "python3",
      "display_name": "Python 3"
    },
    "language_info": {
      "name": "python"
    }
  },
  "cells": [
    {
      "cell_type": "code",
      "metadata": {
        "colab": {
          "base_uri": "https://localhost:8080/"
        },
        "id": "bybkCZsrRjYj",
        "outputId": "dd59527e-5e1b-4681-9b64-d4fcea7d7a07"
      },
      "source": [
        "import hashlib\n",
        "\n",
        "given_str = b\"Vijayalakshmi\"\n",
        "given_str_2 = b\"Vijayalakshmi!!\"\n",
        "\n",
        "md5_value = hashlib.md5(given_str)\n",
        "md5_value_2 = hashlib.md5(given_str_2)\n",
        "\n",
        "print(md5_value.hexdigest())\n",
        "print(md5_value_2.hexdigest())"
      ],
      "execution_count": 4,
      "outputs": [
        {
          "output_type": "stream",
          "text": [
            "7e43facad2dd221608564bc9be6634c4\n",
            "25f70882fbc83dca98a85fba0cc7b15c\n"
          ],
          "name": "stdout"
        }
      ]
    }
  ]
}