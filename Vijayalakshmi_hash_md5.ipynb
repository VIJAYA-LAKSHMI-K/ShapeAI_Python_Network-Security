{
  "nbformat": 4,
  "nbformat_minor": 0,
  "metadata": {
    "colab": {
      "name": "Vijayalakshmi_hash.md5.ipynb",
      "provenance": []
    },
    "kernelspec": {
      "name": "python3",
      "display_name": "Python 3"
    },
    "language_info": {
      "name": "python"
    }
  },
  "cells": [
    {
      "cell_type": "code",
      "metadata": {
        "colab": {
          "base_uri": "https://localhost:8080/"
        },
        "id": "wRd6foLKX12E",
        "outputId": "b5458ceb-038c-4985-8437-df0b48923c84"
      },
      "source": [
        "import hashlib\n",
        "\n",
        "result = hashlib.md5(b'Vijayalakshmi')\n",
        "\n",
        "print(\"The byte equivalent of hash is : \", end = \" \")\n",
        "print(result.digest())"
      ],
      "execution_count": 1,
      "outputs": [
        {
          "output_type": "stream",
          "text": [
            "The byte equivalent of hash is :  b'~C\\xfa\\xca\\xd2\\xdd\"\\x16\\x08VK\\xc9\\xbef4\\xc4'\n"
          ],
          "name": "stdout"
        }
      ]
    }
  ]
}